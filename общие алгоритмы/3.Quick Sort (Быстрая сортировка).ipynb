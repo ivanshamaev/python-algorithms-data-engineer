{
 "cells": [
  {
   "cell_type": "markdown",
   "id": "bc4e793a-6bdd-477b-a225-ff318f384759",
   "metadata": {},
   "source": [
    "# Быстрая сортировка (Quick Sort)\n",
    "\n",
    "__Задача:__\n",
    "\n",
    "    Реализуйте алгоритм быстрой сортировки (Quick Sort) на Python.\n",
    "\n",
    "Напишите функцию ```quick_sort(arr: List[int]) -> List[int]```, которая принимает на вход список целых чисел и возвращает его отсортированным по возрастанию. Алгоритм должен использовать стратегию \"разделяй и властвуй\" для сортировки элементов.\n",
    "\n",
    "__Требования:__\n",
    "\n",
    "    Реализовать алгоритм быстрой сортировки рекурсивно.\n",
    "    Алгоритм должен использовать случайный выбор \"опорного элемента\" для улучшения производительности в среднем случае.\n",
    "    Оценка временной сложности должна быть O(nlog⁡n)O(nlogn) в среднем и O(n2)O(n2) в худшем случае.\n",
    "\n",
    "__Пример:__\n",
    "```\n",
    "arr = [3, 6, 8, 8, 23, 21, 93, 0, 43, 52, 17, 10, 1, 2, 1]\n",
    "print(quick_sort(arr))  # Вывод: [0, 1, 1, 2, 3, 6, 8, 8, 10, 17, 21, 23, 43, 52, 93]\n",
    "```"
   ]
  },
  {
   "cell_type": "markdown",
   "id": "314dbd61-fc0c-40e8-b17b-d23d1f6223e9",
   "metadata": {},
   "source": [
    "__Решение:__"
   ]
  },
  {
   "cell_type": "code",
   "execution_count": 3,
   "id": "1d93e541-58db-4a2b-b0e5-24b8600101da",
   "metadata": {},
   "outputs": [
    {
     "name": "stdout",
     "output_type": "stream",
     "text": [
      "[0, 1, 1, 2, 3, 6, 8, 8, 10, 17, 21, 23, 43, 52, 93]\n"
     ]
    }
   ],
   "source": [
    "import random\n",
    "\n",
    "def quick_sort(arr):\n",
    "    # Базовый случай рекурсии: если длина списка <= 1, он уже отсортирован\n",
    "    if len(arr) <= 1:\n",
    "        return arr\n",
    "    \n",
    "    # Выбираем случайный элемент в качестве опорного\n",
    "    pivot_index = random.randint(0, len(arr) - 1)\n",
    "    pivot = arr[pivot_index]\n",
    "    \n",
    "    # Делим массив на три части: меньше, равные и больше опорного\n",
    "    less = [x for x in arr if x < pivot]\n",
    "    equal = [x for x in arr if x == pivot]\n",
    "    greater = [x for x in arr if x > pivot]\n",
    "    \n",
    "    # Рекурсивно сортируем подмассивы и объединяем результат\n",
    "    return quick_sort(less) + equal + quick_sort(greater)\n",
    "\n",
    "# Пример использования\n",
    "arr = [3, 6, 8, 8, 23, 21, 93, 0, 43, 52, 17, 10, 1, 2, 1]\n",
    "sorted_arr = quick_sort(arr)\n",
    "print(sorted_arr)\n"
   ]
  },
  {
   "attachments": {
    "322c7e8a-eb71-48fd-a0ef-672eaa3b748d.png": {
     "image/png": "[encoded data removed]"
    }
   },
   "cell_type": "markdown",
   "id": "bb32353f-5d5b-43b1-bdf3-6b7b8ae90a35",
   "metadata": {},
   "source": [
    "__Схема алгоритма (не для случайного элемента):__\n",
    "\n",
    "![image.png](attachment:322c7e8a-eb71-48fd-a0ef-672eaa3b748d.png)\n",
    "\n",
    "__Пояснение по коду:__\n",
    "\n",
    "    Базовый случай рекурсии: Если длина массива меньше или равна 1, он уже отсортирован, и мы просто возвращаем этот массив.\n",
    "    Опорный элемент (pivot): Мы случайным образом выбираем элемент в массиве, чтобы избежать наихудшего сценария, когда массив уже почти отсортирован.\n",
    "    Разделение массива: Массив делится на три части:\n",
    "        less: элементы, которые меньше опорного.\n",
    "        equal: элементы, которые равны опорному.\n",
    "        greater: элементы, которые больше опорного.\n",
    "    Рекурсия: Для массивов less и greater мы рекурсивно применяем ту же функцию quick_sort, пока не достигнем базового случая.\n",
    "    Объединение: После сортировки подмассивов мы объединяем их с массивом элементов, равных опорному, чтобы получить итоговый отсортированный массив.\n",
    "\n",
    "__Для чего нужен этот алгоритм в реальной работе?__\n",
    "\n",
    "Быстрая сортировка является одним из самых эффективных алгоритмов для сортировки больших наборов данных на практике. В реальной работе дата-инженера Quick Sort может быть полезен в следующих случаях:\n",
    "\n",
    "    Оптимизация производительности при сортировке больших наборов данных: Например, если нужно отсортировать огромный лог-файл или данные из базы данных перед агрегацией.\n",
    "    Подготовка данных для алгоритмов, требующих отсортированных данных: Некоторые алгоритмы, такие как бинарный поиск или алгоритмы слияния данных, требуют, чтобы данные были отсортированы.\n",
    "    Построение индексов в базах данных: Для ускорения поиска данных в базе данных часто требуется сортировка. Quick Sort, благодаря своей эффективности, часто используется для подобных задач.\n",
    "    Улучшение производительности аналитических запросов: В некоторых задачах аналитики и машинного обучения перед агрегированием данных или вычислением метрик требуется отсортировать данные по ключевым полям.\n",
    "\n",
    "Quick Sort популярен благодаря своей скорости и способности эффективно работать с большими данными в реальных сценариях."
   ]
  },
  {
   "cell_type": "markdown",
   "id": "3c450411-6558-4bff-ab08-70116ec93c4b",
   "metadata": {},
   "source": [
    "__Вывод на печать этапов алгоритма:__"
   ]
  },
  {
   "cell_type": "code",
   "execution_count": 4,
   "id": "c299a15b-3214-44ab-9308-047c18e60b1a",
   "metadata": {},
   "outputs": [
    {
     "name": "stdout",
     "output_type": "stream",
     "text": [
      "len(arr) = 15\n",
      "=====\n",
      "pivot_index = 6 and pivot = 93:\n",
      "less:[3, 6, 8, 8, 23, 21, 0, 43, 52, 17, 10, 1, 2, 1]\n",
      "equal=[93]\n",
      "greater=[]\n",
      "-------\n",
      "pivot_index = 1 and pivot = 6:\n",
      "less:[3, 0, 1, 2, 1]\n",
      "equal=[6]\n",
      "greater=[8, 8, 23, 21, 43, 52, 17, 10]\n",
      "-------\n",
      "pivot_index = 4 and pivot = 1:\n",
      "less:[0]\n",
      "equal=[1, 1]\n",
      "greater=[3, 2]\n",
      "-------\n",
      "pivot_index = 0 and pivot = 3:\n",
      "less:[2]\n",
      "equal=[3]\n",
      "greater=[]\n",
      "-------\n",
      "pivot_index = 4 and pivot = 43:\n",
      "less:[8, 8, 23, 21, 17, 10]\n",
      "equal=[43]\n",
      "greater=[52]\n",
      "-------\n",
      "pivot_index = 3 and pivot = 21:\n",
      "less:[8, 8, 17, 10]\n",
      "equal=[21]\n",
      "greater=[23]\n",
      "-------\n",
      "pivot_index = 3 and pivot = 10:\n",
      "less:[8, 8]\n",
      "equal=[10]\n",
      "greater=[17]\n",
      "-------\n",
      "pivot_index = 1 and pivot = 8:\n",
      "less:[]\n",
      "equal=[8, 8]\n",
      "greater=[]\n",
      "-------\n",
      "[0, 1, 1, 2, 3, 6, 8, 8, 10, 17, 21, 23, 43, 52, 93]\n"
     ]
    }
   ],
   "source": [
    "import random\n",
    "\n",
    "def quick_sort(arr):\n",
    "    \n",
    "    # Базовый случай рекурсии: если длина списка <= 1, он уже отсортирован\n",
    "    if len(arr) <= 1:\n",
    "        return arr\n",
    "    \n",
    "    # Выбираем случайный элемент в качестве опорного\n",
    "    pivot_index = random.randint(0, len(arr) - 1)\n",
    "    pivot = arr[pivot_index]\n",
    "    \n",
    "    # Делим массив на три части: меньше, равные и больше опорного\n",
    "    less = [x for x in arr if x < pivot]\n",
    "    equal = [x for x in arr if x == pivot]\n",
    "    greater = [x for x in arr if x > pivot]\n",
    "\n",
    "    print(f\"pivot_index = {pivot_index} and pivot = {pivot}:\\nless:{less}\\nequal={equal}\\ngreater={greater}\")\n",
    "    print('-------')\n",
    "    # Рекурсивно сортируем подмассивы и объединяем результат\n",
    "    return quick_sort(less) + equal + quick_sort(greater)\n",
    "\n",
    "\n",
    "# Пример использования\n",
    "arr = [3, 6, 8, 8, 23, 21, 93, 0, 43, 52, 17, 10, 1, 2, 1]\n",
    "print(f\"len(arr) = {len(arr)}\\n=====\")\n",
    "sorted_arr = quick_sort(arr)\n",
    "print(sorted_arr)"
   ]
  },
  {
   "cell_type": "code",
   "execution_count": null,
   "id": "54c3ad65-e0c0-4aa2-aea6-849a5de4d733",
   "metadata": {},
   "outputs": [],
   "source": []
  }
 ],
 "metadata": {
  "kernelspec": {
   "display_name": "Python 3 (ipykernel)",
   "language": "python",
   "name": "python3"
  },
  "language_info": {
   "codemirror_mode": {
    "name": "ipython",
    "version": 3
   },
   "file_extension": ".py",
   "mimetype": "text/x-python",
   "name": "python",
   "nbconvert_exporter": "python",
   "pygments_lexer": "ipython3",
   "version": "3.12.5"
  }
 },
 "nbformat": 4,
 "nbformat_minor": 5
}
