{
 "cells": [
  {
   "cell_type": "markdown",
   "id": "5d4f85d7-ed42-4f46-bb93-9aa75e75e947",
   "metadata": {},
   "source": [
    "# Задача 1: половинчатый merge-sort\n",
    "Даны два отсортированных целочисленных списка, вам необходимо, используя только стандартные питоновские структуры данных (кортежи, списки, словари), вывести их объединение - также отсортированный список. Это шаг merge алгоритма merge-sort. \n",
    " \n",
    "Ответ: [ 4, 5, 6, 7, 10, 10, 12, 25, 60, 80 ]\n",
    "\n",
    "list1 = [5, 7, 10, 25] \n",
    "\n",
    "list2 = [4, 6, 10, 12, 60, 80]"
   ]
  },
  {
   "cell_type": "code",
   "execution_count": 39,
   "id": "2d935438-8a88-45bd-828d-b6d05815f7d1",
   "metadata": {},
   "outputs": [
    {
     "name": "stdout",
     "output_type": "stream",
     "text": [
      "[-1, 4, 5, 6, 7, 9, 10, 10, 12, 25, 60, 80, 89, 99, 100]\n"
     ]
    }
   ],
   "source": [
    "def merge_sort(list1, list2):\n",
    "    first_list = 0\n",
    "    second_list = 0\n",
    "    lengh_list1 = len(list1)\n",
    "    lengh_list2 = len(list2)\n",
    "    result = []\n",
    "    while first_list < lengh_list1 and second_list < lengh_list2:\n",
    "        if list1[first_list] <= list2[second_list]:\n",
    "            result.append(list1[first_list])\n",
    "            first_list += 1\n",
    "        else:\n",
    "            result.append(list2[second_list])\n",
    "            second_list += 1\n",
    "    result.extend(list1[first_list:])\n",
    "    result.extend(list2[second_list:])\n",
    "    return result\n",
    "\n",
    "list1 = [-1, 5, 7, 9, 10, 25]\n",
    "list2 = [4, 6, 10, 12, 60, 80, 89, 99, 100]\n",
    "\n",
    "print(merge_sort(list1, list2))"
   ]
  },
  {
   "cell_type": "markdown",
   "id": "4e5bdb7d-b75f-475b-afda-33343430abad",
   "metadata": {},
   "source": [
    "# Задача 2\n",
    "Дан отсортированный массив чисел.<br>\n",
    "Нужно вернуть отсортированный массив квадратов этих чисел.\n",
    "\n",
    "Input: nums = [0, 1, 1, 6, 12, 20]<br>\n",
    "Output: squares = [0, 1, 1, 36, 144, 400]\n",
    "\n",
    "1.1. Любая сложность в big O notation<br>\n",
    "1.2. За сложность O(n)"
   ]
  },
  {
   "cell_type": "code",
   "execution_count": 56,
   "id": "78d1a88b-4328-4dc6-8022-88df116f815b",
   "metadata": {},
   "outputs": [
    {
     "name": "stdout",
     "output_type": "stream",
     "text": [
      "[0, 1, 1, 1, 36, 144, 400]\n",
      "[0, 1, 1, 1, 36, 144, 400]\n"
     ]
    }
   ],
   "source": [
    "def sort_func_1(nums):\n",
    "    return sorted([num**2 for num in nums])\n",
    "\n",
    "\n",
    "def sort_func_2(nums):\n",
    "    left = 0\n",
    "    position = right = len(nums) - 1\n",
    "    result = [0] * len(nums)\n",
    "    while left < right:\n",
    "        if abs(nums[left]) > abs(nums[right]):\n",
    "            result[position] = nums[left] ** 2\n",
    "            left += 1\n",
    "        else:\n",
    "            result[position] = nums[right] ** 2\n",
    "            right -= 1\n",
    "        position -= 1\n",
    "    return result            \n",
    "\n",
    "nums = [-1, 0, 1, 1, 6, 12, 20]\n",
    "print(sort_func_1(nums))\n",
    "print(sort_func_2(nums))"
   ]
  },
  {
   "cell_type": "code",
   "execution_count": null,
   "id": "deef0e97-c746-4254-a49f-94277cb21455",
   "metadata": {},
   "outputs": [],
   "source": []
  }
 ],
 "metadata": {
  "kernelspec": {
   "display_name": "Python 3 (ipykernel)",
   "language": "python",
   "name": "python3"
  },
  "language_info": {
   "codemirror_mode": {
    "name": "ipython",
    "version": 3
   },
   "file_extension": ".py",
   "mimetype": "text/x-python",
   "name": "python",
   "nbconvert_exporter": "python",
   "pygments_lexer": "ipython3",
   "version": "3.12.5"
  }
 },
 "nbformat": 4,
 "nbformat_minor": 5
}
