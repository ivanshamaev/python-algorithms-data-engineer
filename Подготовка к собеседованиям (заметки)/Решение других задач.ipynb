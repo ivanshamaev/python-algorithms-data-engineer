{
 "cells": [
  {
   "cell_type": "markdown",
   "id": "2beb749f-78a0-4f39-9f18-95bc8a85ffe1",
   "metadata": {},
   "source": [
    "# Яндекс\n",
    "\n",
    "Дан отсортированный массив чисел M и число k. Необходимо найти в этом массиве 2 элемента, которые в сумме дают k.<br> \n",
    "Необходимо придумать алгоритм с асимптотикой O(n) и не требующий дополнительной памяти. \n",
    "\n",
    "nums = [-4, -2, 0, 2, 3, 4, 5, 6, 7, 9]<br>\n",
    "k = 2"
   ]
  },
  {
   "cell_type": "code",
   "execution_count": 7,
   "id": "bd484b9d-ac9a-4d4a-89e1-9a297a86573b",
   "metadata": {},
   "outputs": [
    {
     "name": "stdout",
     "output_type": "stream",
     "text": [
      "(-1, 3)\n"
     ]
    }
   ],
   "source": [
    "def find_2_nums(nums, k):\n",
    "    left = 0\n",
    "    right = len(nums) - 1\n",
    "    while left < right:\n",
    "        if nums[left] + nums[right] == k:\n",
    "            return nums[left], nums[right]\n",
    "        elif nums[left] + nums[right] < k:\n",
    "            left += 1\n",
    "        else:\n",
    "            right -= 1\n",
    "\n",
    "nums = [-1, 0, 2, 3, 4, 5, 6, 7, 9]\n",
    "k = 2\n",
    "print(find_2_nums(nums, k))"
   ]
  },
  {
   "cell_type": "markdown",
   "id": "fa2bd44d-3e42-40b8-8831-9737ed4cffea",
   "metadata": {},
   "source": [
    "# Flatten the Nested List in Python\n",
    "\n",
    "Написать функцию преобразования input_list в output<br>\n",
    "input_lst = [1,2,[7,9,[15,[12,9]],18,10]]<br>\n",
    "output = [1,2,7,9,15,12,9,18,10]"
   ]
  },
  {
   "cell_type": "code",
   "execution_count": 15,
   "id": "90e81609-a9f8-4b42-8c79-3e044f329de6",
   "metadata": {},
   "outputs": [
    {
     "name": "stdout",
     "output_type": "stream",
     "text": [
      "[1, 2, 7, 9, 15, 12, 9, 18, 10]\n"
     ]
    }
   ],
   "source": [
    "def flatten_nested_list(input_lst):\n",
    "    result = []\n",
    "    for item in input_lst:\n",
    "        if isinstance(item, list):\n",
    "            result.extend(flatten_nested_list(item))\n",
    "        else:\n",
    "            result.append(item)\n",
    "    return result\n",
    "\n",
    "input_lst = [1,2,[7,9,[15,[12,9]],18,10]]\n",
    "\n",
    "print(flatten_nested_list(input_lst))"
   ]
  },
  {
   "cell_type": "code",
   "execution_count": null,
   "id": "5c167131-73d0-4c05-b483-5f4eef956041",
   "metadata": {},
   "outputs": [],
   "source": []
  }
 ],
 "metadata": {
  "kernelspec": {
   "display_name": "Python 3 (ipykernel)",
   "language": "python",
   "name": "python3"
  },
  "language_info": {
   "codemirror_mode": {
    "name": "ipython",
    "version": 3
   },
   "file_extension": ".py",
   "mimetype": "text/x-python",
   "name": "python",
   "nbconvert_exporter": "python",
   "pygments_lexer": "ipython3",
   "version": "3.12.5"
  }
 },
 "nbformat": 4,
 "nbformat_minor": 5
}
